{
 "cells": [
  {
   "cell_type": "code",
   "execution_count": null,
   "metadata": {},
   "outputs": [],
   "source": [
    "import matplotlib.pyplot as plt\n",
    "from torchtrainer.util.post_processing import logits_to_preds\n",
    "import torch\n",
    "from topology_metrics import ClDice\n",
    "from confusion_metrics import ConfusionMatrixMetrics\n",
    "from distance_metrics import DistanceMetrics\n",
    "from PIL import Image\n",
    "from torchvision.transforms import transforms\n",
    "from pathlib import Path\n",
    "import networkx as nx\n",
    "import torch.nn.functional as F"
   ]
  },
  {
   "cell_type": "code",
   "execution_count": 2,
   "metadata": {},
   "outputs": [
    {
     "data": {
      "image/png": "[encoded data removed]",
      "text/plain": [
       "<Figure size 1500x500 with 3 Axes>"
      ]
     },
     "metadata": {},
     "output_type": "display_data"
    }
   ],
   "source": [
    "img = torch.tensor([\n",
    "    [0, 0, 1, 0, 0],\n",
    "    [0, 0, 1, 1, 1],\n",
    "    [0, 0, 1, 0, 0],\n",
    "    [0, 1, 0, 0, 0],\n",
    "    [1, 0, 0, 0, 0]\n",
    "], dtype=torch.float32)\n",
    "\n",
    "logits = torch.tensor([\n",
    "    [-2.1, -1.8,  2.5, -2.0, -1.9],\n",
    "    [-2.2, -2.0,  2.7,  2.8,  2.6],\n",
    "    [-2.3, -2.1,  2.9, -1.7, -1.6],\n",
    "    [-1.5,  2.4, -1.9, -2.2, -2.1],\n",
    "    [ 2.3, -1.6, -2.0, -2.1, -2.3]\n",
    "], dtype=torch.float32)\n",
    "\n",
    "logits_b = torch.tensor([\n",
    "    [-2.1, -1.8,  -2.5, -2.0, -1.9],\n",
    "    [-2.2, -2.0,  2.7,  2.8,  2.6],\n",
    "    [-2.3, -2.1,  -1.8, -1.7, -1.6],\n",
    "    [-1.5,  2.4, -1.9, -2.2, -2.1],\n",
    "    [ 2.3, -1.6, -2.0, -2.1, -2.3]\n",
    "], dtype=torch.float32)\n",
    "\n",
    "img = F.interpolate(img.unsqueeze(0).unsqueeze(0), size=(25, 25), mode='nearest').squeeze()\n",
    "logits = F.interpolate(logits.unsqueeze(0).unsqueeze(0), size=(25, 25), mode='nearest').squeeze()\n",
    "logits_b = F.interpolate(logits_b.unsqueeze(0).unsqueeze(0), size=(25, 25), mode='nearest').squeeze()\n",
    "\n",
    "\n",
    "logits_reshaped = logits.unsqueeze(0).unsqueeze(0)\n",
    "logits_b_reshaped = logits_b.unsqueeze(0).unsqueeze(0)\n",
    "img_reshaped = img.unsqueeze(0).unsqueeze(0)\n",
    "\n",
    "preds = logits_to_preds(logits_reshaped, task=\"binary\")\n",
    "\n",
    "preds_np = preds.numpy().reshape(25,25)\n",
    "\n",
    "fig, axes = plt.subplots(1, 3, figsize=(15, 5))\n",
    "\n",
    "axes[0].imshow(logits, cmap=\"gray\")\n",
    "axes[0].set_title(\"Logits\")\n",
    "axes[0].axis(\"off\")\n",
    "\n",
    "axes[1].imshow(logits_b, cmap=\"gray\")\n",
    "axes[1].set_title(\"Logits (wrong)\")\n",
    "axes[1].axis(\"off\")\n",
    "\n",
    "axes[2].imshow(img, cmap=\"gray\")\n",
    "axes[2].set_title(\"Target\")\n",
    "axes[2].axis(\"off\")\n",
    "\n",
    "plt.show()\n"
   ]
  },
  {
   "cell_type": "code",
   "execution_count": 3,
   "metadata": {},
   "outputs": [],
   "source": [
    "save_path = Path(Path.cwd(), \"save\")\n",
    "\n",
    "to_pil = transforms.ToPILImage()\n",
    "\n",
    "image = to_pil(img)\n",
    "image.save(Path(save_path, \"image.tif\"))\n",
    "\n",
    "image = to_pil(logits)\n",
    "image.save(Path(save_path, \"logits.tif\"))\n",
    "\n",
    "image = to_pil(logits_b)\n",
    "image.save(Path(save_path, \"logits_b.tif\"))"
   ]
  },
  {
   "cell_type": "code",
   "execution_count": 4,
   "metadata": {},
   "outputs": [],
   "source": [
    "from convert_to_graph import convert_to_graph\n",
    "\n",
    "graph_image, graph_scores = convert_to_graph(save_path, Path(save_path, \"output\"))\n",
    "\n",
    "pos_label_image = {node: (data['center'][1], data['center'][0]) for node, data in graph_image.nodes(data=True)}\n",
    "pos_label_scores = {node: (data['center'][1], data['center'][0]) for node, data in graph_scores.nodes(data=True)}\n"
   ]
  },
  {
   "cell_type": "code",
   "execution_count": 5,
   "metadata": {},
   "outputs": [
    {
     "data": {
      "image/png": "[encoded data removed]",
      "text/plain": [
       "<Figure size 640x480 with 1 Axes>"
      ]
     },
     "metadata": {},
     "output_type": "display_data"
    }
   ],
   "source": [
    "nx.draw(graph_scores, pos_label_scores, with_labels=False, node_color='blue', node_size=10, edge_color='blue')\n",
    "nx.draw(graph_image, pos_label_image, with_labels=False, node_color='red', node_size=10, edge_color='red')\n",
    "plt.show()"
   ]
  },
  {
   "cell_type": "code",
   "execution_count": 6,
   "metadata": {},
   "outputs": [
    {
     "name": "stdout",
     "output_type": "stream",
     "text": [
      "{'jaccard_distance': 0.0, 'portrait_divergence': 0, 'ipsen_mikhailov': 0.0, 'netlsd': 0.0, 'laplacian_spectral_method': 0.0, 'degree_divergence': nan, 'onion_divergence': 0.0}\n"
     ]
    },
    {
     "name": "stderr",
     "output_type": "stream",
     "text": [
      "/home/ivancalvo/miniconda3/envs/visao/lib/python3.12/site-packages/scipy/stats/_entropy.py:154: RuntimeWarning: invalid value encountered in divide\n",
      "  qk = 1.0*qk / xp.sum(qk, **sum_kwargs)  # type: ignore[operator, call-overload]\n"
     ]
    }
   ],
   "source": [
    "from run_metrics import run_all_metrics\n",
    "\n",
    "distances = run_all_metrics(graph_scores, graph_image)\n",
    "print(distances)"
   ]
  },
  {
   "cell_type": "code",
   "execution_count": 9,
   "metadata": {},
   "outputs": [
    {
     "name": "stdout",
     "output_type": "stream",
     "text": [
      "{'clDice': tensor(0.8571, dtype=torch.float64), 'confusionMatrixMetrics': (tensor(0.9200), tensor(0.7143), tensor(1.), tensor(0.7143), tensor(0.8333)), 'distanceMetrics': {'Distance gt to pred': tensor(0.8037, dtype=torch.float64), 'Distance pred to gt': tensor(0.1569, dtype=torch.float64), 'Hausdorff distance': tensor(5., dtype=torch.float64), 'Overlap fraction gt': tensor(0.7259, dtype=torch.float64), 'Overlap fraction pred': tensor(0.8954, dtype=torch.float64), 'Surface Dice': tensor(0.8014, dtype=torch.float64)}}\n"
     ]
    }
   ],
   "source": [
    "distances = run_all_metrics(logits_b, img)\n",
    "print(distances)"
   ]
  },
  {
   "cell_type": "code",
   "execution_count": null,
   "metadata": {},
   "outputs": [
    {
     "name": "stdout",
     "output_type": "stream",
     "text": [
      "(tensor(1., dtype=torch.float64), (tensor(1.), tensor(1.), tensor(1.), tensor(1.), tensor(1.)))\n",
      "(tensor(0.8889, dtype=torch.float64), (tensor(0.9200), tensor(0.7143), tensor(1.), tensor(0.7143), tensor(0.8333)))\n",
      "{'Distance gt to pred': tensor(0., dtype=torch.float64), 'Distance pred to gt': tensor(0., dtype=torch.float64), 'Hausdorff distance': tensor(0., dtype=torch.float64), 'Overlap fraction gt': tensor(1., dtype=torch.float64), 'Overlap fraction pred': tensor(1., dtype=torch.float64), 'Surface Dice': tensor(1., dtype=torch.float64)}\n",
      "{'Distance gt to pred': tensor(0.1385, dtype=torch.float64), 'Distance pred to gt': tensor(0., dtype=torch.float64), 'Hausdorff distance': tensor(1., dtype=torch.float64), 'Overlap fraction gt': tensor(0.8615, dtype=torch.float64), 'Overlap fraction pred': tensor(1., dtype=torch.float64), 'Surface Dice': tensor(0.9237, dtype=torch.float64)}\n"
     ]
    }
   ],
   "source": [
    "from run_metrics import run_metrics, run_distance_metrics\n",
    "\n",
    "print(run_metrics(logits, img))\n",
    "print(run_metrics(logits_b, img))\n",
    "\n",
    "print(run_distance_metrics(logits, img))\n",
    "print(run_distance_metrics(logits_b, img))"
   ]
  },
  {
   "cell_type": "code",
   "execution_count": null,
   "metadata": {},
   "outputs": [
    {
     "name": "stdout",
     "output_type": "stream",
     "text": [
      "tensor(1., dtype=torch.float64)\n",
      "tensor(0.8889, dtype=torch.float64)\n"
     ]
    }
   ],
   "source": [
    "clDiceClass = ClDice()\n",
    "\n",
    "print(clDiceClass(logits_reshaped, img_reshaped))\n",
    "print(clDiceClass(logits_b_reshaped, img_reshaped))"
   ]
  },
  {
   "cell_type": "code",
   "execution_count": null,
   "metadata": {},
   "outputs": [
    {
     "name": "stdout",
     "output_type": "stream",
     "text": [
      "(tensor(1.), tensor(1.), tensor(1.), tensor(1.), tensor(1.))\n",
      "(tensor(0.9200), tensor(0.7143), tensor(1.), tensor(0.7143), tensor(0.8333))\n"
     ]
    }
   ],
   "source": [
    "confusionMatrix = ConfusionMatrixMetrics()\n",
    "\n",
    "print(confusionMatrix(logits_reshaped, img_reshaped))\n",
    "print(confusionMatrix(logits_b_reshaped, img_reshaped))"
   ]
  },
  {
   "cell_type": "code",
   "execution_count": null,
   "metadata": {},
   "outputs": [
    {
     "name": "stdout",
     "output_type": "stream",
     "text": [
      "{'Distance gt to pred': tensor(0., dtype=torch.float64), 'Distance pred to gt': tensor(0., dtype=torch.float64), 'Hausdorff distance': tensor(0., dtype=torch.float64), 'Overlap fraction gt': tensor(1., dtype=torch.float64), 'Overlap fraction pred': tensor(1., dtype=torch.float64), 'Surface Dice': tensor(1., dtype=torch.float64)}\n",
      "{'Distance gt to pred': tensor(0.1385, dtype=torch.float64), 'Distance pred to gt': tensor(0., dtype=torch.float64), 'Hausdorff distance': tensor(1., dtype=torch.float64), 'Overlap fraction gt': tensor(0.8615, dtype=torch.float64), 'Overlap fraction pred': tensor(1., dtype=torch.float64), 'Surface Dice': tensor(0.9237, dtype=torch.float64)}\n"
     ]
    }
   ],
   "source": [
    "# In this case the image must have only three dimensions\n",
    "img_reshaped = img.unsqueeze(0)\n",
    "\n",
    "distanceMetrics = DistanceMetrics()\n",
    "\n",
    "print(distanceMetrics(logits_reshaped, img_reshaped))\n",
    "print(distanceMetrics(logits_b_reshaped, img_reshaped))"
   ]
  }
 ],
 "metadata": {
  "kernelspec": {
   "display_name": "visao",
   "language": "python",
   "name": "python3"
  },
  "language_info": {
   "codemirror_mode": {
    "name": "ipython",
    "version": 3
   },
   "file_extension": ".py",
   "mimetype": "text/x-python",
   "name": "python",
   "nbconvert_exporter": "python",
   "pygments_lexer": "ipython3",
   "version": "3.12.5"
  }
 },
 "nbformat": 4,
 "nbformat_minor": 2
}
